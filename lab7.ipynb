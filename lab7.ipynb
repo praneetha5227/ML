{
 "cells": [
  {
   "cell_type": "code",
   "execution_count": 1,
   "id": "abff16ab",
   "metadata": {},
   "outputs": [
    {
     "name": "stdout",
     "output_type": "stream",
     "text": [
      "   Unnamed: 0   embed_0   embed_1   embed_2   embed_3   embed_4   embed_5  \\\n",
      "0           0 -0.031154  0.005788  0.013190  0.032214 -0.002240 -0.007682   \n",
      "1           1 -0.059829 -0.029655  0.023997  0.029381 -0.008910  0.002651   \n",
      "2           2 -0.051916  0.002292  0.037476  0.018359 -0.009908  0.007921   \n",
      "3           3 -0.065384 -0.042939  0.011656  0.032460 -0.013346  0.003960   \n",
      "4           4 -0.060732 -0.030397  0.010289  0.024453 -0.004234 -0.000490   \n",
      "\n",
      "    embed_6   embed_7   embed_8  ...  embed_758  embed_759  embed_760  \\\n",
      "0 -0.042094  0.069687  0.041463  ...  -0.052788   0.025505  -0.031762   \n",
      "1 -0.021002  0.062534  0.041522  ...  -0.024644  -0.002297  -0.039347   \n",
      "2 -0.056453  0.073637 -0.002247  ...  -0.015411   0.034888  -0.027017   \n",
      "3 -0.037575  0.053072  0.037404  ...  -0.018055  -0.021441  -0.034868   \n",
      "4 -0.037785  0.077979 -0.000518  ...  -0.007468   0.018795  -0.028469   \n",
      "\n",
      "   embed_761  embed_762  embed_763  embed_764  embed_765  embed_766  embed_767  \n",
      "0  -0.028066  -0.015836   0.020776   0.019726  -0.000173  -0.037625  -0.029255  \n",
      "1  -0.055724   0.030523   0.044003   0.000522  -0.015451  -0.015479  -0.025860  \n",
      "2  -0.026406  -0.003014   0.036860   0.031879  -0.033040  -0.041552   0.003078  \n",
      "3  -0.050517   0.026233   0.061242   0.004917  -0.020379  -0.039484  -0.018563  \n",
      "4  -0.058496   0.014169   0.047644   0.019805  -0.004765  -0.030699   0.001279  \n",
      "\n",
      "[5 rows x 769 columns]\n"
     ]
    }
   ],
   "source": [
    "import pandas as pd\n",
    " \n",
    "file_path = r\"C:\\Users\\91939\\Downloads\\t5_train (2).xlsx\"\n",
    "\n",
    "df = pd.read_excel(file_path)\n",
    " \n",
    "# Display the first few rows of the DataFrame\n",
    "print(df.head())"
   ]
  },
  {
   "cell_type": "code",
   "execution_count": 2,
   "id": "d6222c6a",
   "metadata": {},
   "outputs": [
    {
     "name": "stdout",
     "output_type": "stream",
     "text": [
      "Support vectors:  [[0. 0.]\n",
      " [1. 1.]]\n"
     ]
    }
   ],
   "source": [
    "import numpy as np\n",
    "from sklearn import svm\n",
    "\n",
    "embed_0 = np.array([[0, 0], [1, 1]])\n",
    "embed_1 = np.array([0, 1])\n",
    "\n",
    "# Create an SVM classifier\n",
    "clf = svm.SVC()\n",
    "\n",
    "# Fit the SVM classifier to the training data\n",
    "clf.fit(embed_0, embed_1)\n",
    "\n",
    "# Get the support vectors\n",
    "support_vectors = clf.support_vectors_\n",
    "print(\"Support vectors: \", support_vectors)\n"
   ]
  },
  {
   "cell_type": "code",
   "execution_count": 7,
   "id": "1eb84db9",
   "metadata": {},
   "outputs": [
    {
     "name": "stdout",
     "output_type": "stream",
     "text": [
      "Accuracy: 1.0\n",
      "Predicted class: [0]\n"
     ]
    }
   ],
   "source": [
    "accuracy = clf.score(embed_0, embed_1)\n",
    "print(\"Accuracy:\", accuracy)\n",
    "\n",
    "# Perform classification for a given vector\n",
    "test_vect = [[-0.031153565, 0.005787661]]  # Replace this with your own test vector\n",
    "predicted_class = clf.predict(test_vect)\n",
    "print(\"Predicted class:\", predicted_class)\n"
   ]
  },
  {
   "cell_type": "code",
   "execution_count": null,
   "id": "2feb34ad",
   "metadata": {},
   "outputs": [],
   "source": []
  },
  {
   "cell_type": "code",
   "execution_count": null,
   "id": "fcfa2c29",
   "metadata": {},
   "outputs": [],
   "source": []
  }
 ],
 "metadata": {
  "kernelspec": {
   "display_name": "Python 3 (ipykernel)",
   "language": "python",
   "name": "python3"
  },
  "language_info": {
   "codemirror_mode": {
    "name": "ipython",
    "version": 3
   },
   "file_extension": ".py",
   "mimetype": "text/x-python",
   "name": "python",
   "nbconvert_exporter": "python",
   "pygments_lexer": "ipython3",
   "version": "3.11.4"
  }
 },
 "nbformat": 4,
 "nbformat_minor": 5
}
