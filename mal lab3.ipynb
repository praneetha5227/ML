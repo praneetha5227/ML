{
 "cells": [
  {
   "cell_type": "code",
   "execution_count": 1,
   "id": "f8403dba",
   "metadata": {},
   "outputs": [],
   "source": [
    "import pandas as pd\n",
    "import numpy as np\n",
    "\n",
    "file_name = r\"test.xlsx\"\n",
    "dtest = pd.read_excel(file_name)\n",
    "\n",
    "name = r\"train.xlsx\"\n",
    "dtrain = pd.read_excel(name)"
   ]
  },
  {
   "cell_type": "code",
   "execution_count": 2,
   "id": "c29cce99",
   "metadata": {},
   "outputs": [],
   "source": [
    "from sentence_transformers import SentenceTransformer\n",
    "model=SentenceTransformer('sentence-transformers/sentence-t5-base')\n",
    "dtest['EmbeddingsLM']=dtest['Equation'].apply(lambda x:model.encode(x))\n",
    "t5_test=pd.DataFrame(dtest['EmbeddingsLM'].tolist(),index=dtest.index).add_prefix('embed_')"
   ]
  },
  {
   "cell_type": "code",
   "execution_count": 3,
   "id": "16695f38",
   "metadata": {},
   "outputs": [],
   "source": [
    "from sentence_transformers import SentenceTransformer\n",
    "model=SentenceTransformer('sentence-transformers/sentence-t5-base')\n",
    "dtrain['EmbeddingsLM']=dtrain['input'].apply(lambda x:model.encode(str(x)))\n",
    "t5_train=pd.DataFrame(dtrain['EmbeddingsLM'].tolist(),index=dtrain.index).add_prefix('embed_')"
   ]
  },
  {
   "cell_type": "code",
   "execution_count": 10,
   "id": "aded4548",
   "metadata": {},
   "outputs": [
    {
     "name": "stdout",
     "output_type": "stream",
     "text": [
      "Intra-Class Spread for Class 0: 0.4119475483894348\n",
      "Intra-Class Spread for Class 1: 0.4119475483894348\n",
      "Inter-Class Distance: 0.0\n"
     ]
    }
   ],
   "source": [
    "from sklearn.metrics import pairwise_distances\n",
    "import numpy as np\n",
    "\n",
    "class_0_embeddings = t5_train[dtrain['output'] == 1] \n",
    "class_1_embeddings = t5_train[dtrain['output'] == 1] \n",
    "\n",
    "# Calculate class centroids\n",
    "class_0_centroid = np.mean(class_0_embeddings, axis=0)\n",
    "class_1_centroid = np.mean(class_1_embeddings, axis=0)\n",
    "\n",
    "# Calculate intra-class spread\n",
    "intra_class_spread_0 = np.mean(pairwise_distances(class_0_embeddings, [class_0_centroid]))\n",
    "intra_class_spread_1 = np.mean(pairwise_distances(class_1_embeddings, [class_1_centroid]))\n",
    "\n",
    "# Calculate inter-class distance\n",
    "inter_class_distance = np.linalg.norm(class_0_centroid - class_1_centroid)\n",
    "\n",
    "print(f\"Intra-Class Spread for Class 0: {intra_class_spread_1}\")\n",
    "print(f\"Intra-Class Spread for Class 1: {intra_class_spread_1}\")\n",
    "print(f\"Inter-Class Distance: {inter_class_distance}\")"
   ]
  },
  {
   "cell_type": "code",
   "execution_count": 8,
   "id": "70d5a9ec",
   "metadata": {},
   "outputs": [
    {
     "name": "stdout",
     "output_type": "stream",
     "text": [
      "Centroid for Class 0:\n",
      "embed_0     -0.035578\n",
      "embed_1     -0.016204\n",
      "embed_2      0.029941\n",
      "embed_3      0.024514\n",
      "embed_4     -0.014534\n",
      "               ...   \n",
      "embed_763    0.039044\n",
      "embed_764    0.015638\n",
      "embed_765    0.004035\n",
      "embed_766   -0.015842\n",
      "embed_767   -0.017141\n",
      "Length: 768, dtype: float32\n",
      "Centroid for Class 1:\n",
      "embed_0     -0.035578\n",
      "embed_1     -0.016204\n",
      "embed_2      0.029941\n",
      "embed_3      0.024514\n",
      "embed_4     -0.014534\n",
      "               ...   \n",
      "embed_763    0.039044\n",
      "embed_764    0.015638\n",
      "embed_765    0.004035\n",
      "embed_766   -0.015842\n",
      "embed_767   -0.017141\n",
      "Length: 768, dtype: float32\n"
     ]
    }
   ],
   "source": [
    "import numpy as np\n",
    "class_0_centroid = np.mean(class_0_embeddings, axis=0)\n",
    "class_1_centroid = np.mean(class_1_embeddings, axis=0)\n",
    "\n",
    "print(\"Centroid for Class 0:\")\n",
    "print(class_0_centroid)\n",
    "\n",
    "print(\"Centroid for Class 1:\")\n",
    "print(class_1_centroid)"
   ]
  },
  {
   "cell_type": "code",
   "execution_count": 11,
   "id": "dec0dc09",
   "metadata": {},
   "outputs": [
    {
     "name": "stdout",
     "output_type": "stream",
     "text": [
      "Standard Deviation for Class 0:\n",
      "embed_0      0.022676\n",
      "embed_1      0.016684\n",
      "embed_2      0.015554\n",
      "embed_3      0.015559\n",
      "embed_4      0.011162\n",
      "               ...   \n",
      "embed_763    0.016016\n",
      "embed_764    0.017017\n",
      "embed_765    0.014623\n",
      "embed_766    0.020864\n",
      "embed_767    0.022057\n",
      "Length: 768, dtype: float32\n",
      "Standard Deviation for Class 1:\n",
      "embed_0      0.022676\n",
      "embed_1      0.016684\n",
      "embed_2      0.015554\n",
      "embed_3      0.015559\n",
      "embed_4      0.011162\n",
      "               ...   \n",
      "embed_763    0.016016\n",
      "embed_764    0.017017\n",
      "embed_765    0.014623\n",
      "embed_766    0.020864\n",
      "embed_767    0.022057\n",
      "Length: 768, dtype: float32\n"
     ]
    }
   ],
   "source": [
    "\n",
    "std_dev_class_0 = np.std(class_0_embeddings, axis=0)\n",
    "std_dev_class_1 = np.std(class_1_embeddings, axis=0)\n",
    "\n",
    "print(\"Standard Deviation for Class 0:\")\n",
    "print(std_dev_class_0)\n",
    "\n",
    "print(\"Standard Deviation for Class 1:\")\n",
    "print(std_dev_class_1)"
   ]
  },
  {
   "cell_type": "code",
   "execution_count": 12,
   "id": "607978d0",
   "metadata": {},
   "outputs": [
    {
     "name": "stdout",
     "output_type": "stream",
     "text": [
      "Distance between Class 0 and Class 1 mean vectors:\n",
      "0.0\n"
     ]
    }
   ],
   "source": [
    "\n",
    "class_0_centroid = np.mean(class_0_embeddings, axis=0)\n",
    "class_1_centroid = np.mean(class_1_embeddings, axis=0)\n",
    "\n",
    "distance_between_classes = np.linalg.norm(class_0_centroid - class_1_centroid)\n",
    "\n",
    "print(\"Distance between Class 0 and Class 1 mean vectors:\")\n",
    "print(distance_between_classes)"
   ]
  },
  {
   "cell_type": "code",
   "execution_count": 18,
   "id": "acf84f0c",
   "metadata": {},
   "outputs": [
    {
     "data": {
      "image/png": "[encoded data removed]",
      "text/plain": [
       "<Figure size 640x480 with 1 Axes>"
      ]
     },
     "metadata": {},
     "output_type": "display_data"
    },
    {
     "name": "stdout",
     "output_type": "stream",
     "text": [
      "Mean of output: 2.8616844465058753\n",
      "Variance of output: 2.402811788864269\n"
     ]
    }
   ],
   "source": [
    "import pandas as pd\n",
    "import matplotlib.pyplot as plt\n",
    "\n",
    "file_name = r\"test.xlsx\"\n",
    "df = pd.read_excel(file_name)\n",
    "\n",
    "selected_feature = 'output'\n",
    "\n",
    "plt.hist(df[selected_feature], bins=num_bins, edgecolor='k')\n",
    "plt.xlabel(selected_feature)\n",
    "plt.ylabel('frequency')\n",
    "plt.title(f'Histogram of {selected_feature}')\n",
    "plt.show()\n",
    "\n",
    "# Calculate the mean and variance\n",
    "feature_mean = df[selected_feature].mean()\n",
    "feature_variance = df[selected_feature].var()\n",
    "\n",
    "print(f\"Mean of {selected_feature}: {feature_mean}\")\n",
    "print(f\"Variance of {selected_feature}: {feature_variance}\")"
   ]
  },
  {
   "cell_type": "code",
   "execution_count": 20,
   "id": "f43ce2ac",
   "metadata": {},
   "outputs": [
    {
     "data": {
      "image/png": "[encoded data removed]",
      "text/plain": [
       "<Figure size 640x480 with 1 Axes>"
      ]
     },
     "metadata": {},
     "output_type": "display_data"
    },
    {
     "name": "stdout",
     "output_type": "stream",
     "text": [
      "Mean of output: 3.13614526555964\n",
      "Variance of output: 1.3751565931940488\n"
     ]
    }
   ],
   "source": [
    "import pandas as pd\n",
    "import matplotlib.pyplot as plt\n",
    "\n",
    "file_name = r\"train.xlsx\"\n",
    "df = pd.read_excel(name)\n",
    "\n",
    "selected_feature = 'output'\n",
    "\n",
    "\n",
    "num_bins = 20 \n",
    "plt.hist(df[selected_feature], bins=num_bins, edgecolor='k')\n",
    "plt.xlabel(selected_feature)\n",
    "plt.ylabel('Frequency')\n",
    "plt.title(f'Histogram of {selected_feature}')\n",
    "plt.show()\n",
    "\n",
    "# Calculate the mean and variance\n",
    "feature_mean = df[selected_feature].mean()\n",
    "feature_variance = df[selected_feature].var()\n",
    "\n",
    "print(f\"Mean of {selected_feature}: {feature_mean}\")\n",
    "print(f\"Variance of {selected_feature}: {feature_variance}\")"
   ]
  },
  {
   "cell_type": "code",
   "execution_count": 21,
   "id": "8afa096b",
   "metadata": {},
   "outputs": [
    {
     "name": "stderr",
     "output_type": "stream",
     "text": [
      "C:\\Users\\91939\\anaconda3\\Lib\\site-packages\\numpy\\core\\fromnumeric.py:3464: RuntimeWarning: Mean of empty slice.\n",
      "  return _methods._mean(a, axis=axis, dtype=dtype,\n",
      "C:\\Users\\91939\\anaconda3\\Lib\\site-packages\\numpy\\core\\_methods.py:192: RuntimeWarning: invalid value encountered in scalar divide\n",
      "  ret = ret.dtype.type(ret / rcount)\n"
     ]
    },
    {
     "data": {
      "image/png": "[encoded data removed]",
      "text/plain": [
       "<Figure size 640x480 with 1 Axes>"
      ]
     },
     "metadata": {},
     "output_type": "display_data"
    }
   ],
   "source": [
    "import pandas as pd\n",
    "import numpy as np\n",
    "import matplotlib.pyplot as plt\n",
    "\n",
    "file_name = r\"test.xlsx\"\n",
    "df1 = pd.read_excel(file_name)\n",
    "\n",
    "\n",
    "file_name = r\"train.xlsx\"\n",
    "df2 = pd.read_excel(name)\n",
    "\n",
    "\n",
    "feature1 = df1['output'].values\n",
    "feature2 = df2['output'].values\n",
    "\n",
    "r_values = range(1, 11)\n",
    "\n",
    "distances1 = []\n",
    "distances2 = []\n",
    "\n",
    "for r in r_values:\n",
    "    minkowski_distances1 = []\n",
    "    minkowski_distances2 = []\n",
    "    \n",
    "    for i in range(len(feature1)):\n",
    "        for j in range(len(feature2)):\n",
    "            distance = np.abs(feature1[i] - feature2[j])**r\n",
    "            minkowski_distances1.append(distance**(1/r))\n",
    "    \n",
    "    mean_distance1 = np.mean(minkowski_distances1)\n",
    "    mean_distance2 = np.mean(minkowski_distances2)\n",
    "    \n",
    "    distances1.append(mean_distance1)\n",
    "    distances2.append(mean_distance2)\n",
    "\n",
    "# Create a plot to observe the nature of the distance graph for both datasets\n",
    "plt.plot(r_values, distances1, label='Dataset 1', marker='o', linestyle='-')\n",
    "plt.plot(r_values, distances2, label='Dataset 2', marker='x', linestyle='-')\n",
    "plt.xlabel('r')\n",
    "plt.ylabel('Mean Minkowski Distance')\n",
    "plt.title('Mean Minkowski Distance vs. r')\n",
    "plt.legend()\n",
    "plt.grid(True)\n",
    "plt.show()"
   ]
  },
  {
   "cell_type": "code",
   "execution_count": 22,
   "id": "40415ee2",
   "metadata": {},
   "outputs": [
    {
     "ename": "NameError",
     "evalue": "name 'X' is not defined",
     "output_type": "error",
     "traceback": [
      "\u001b[1;31m---------------------------------------------------------------------------\u001b[0m",
      "\u001b[1;31mNameError\u001b[0m                                 Traceback (most recent call last)",
      "Cell \u001b[1;32mIn[22], line 5\u001b[0m\n\u001b[0;32m      3\u001b[0m \u001b[38;5;28;01mfrom\u001b[39;00m \u001b[38;5;21;01msklearn\u001b[39;00m\u001b[38;5;21;01m.\u001b[39;00m\u001b[38;5;21;01mneighbors\u001b[39;00m \u001b[38;5;28;01mimport\u001b[39;00m KNeighborsClassifier\n\u001b[0;32m      4\u001b[0m neigh \u001b[38;5;241m=\u001b[39m KNeighborsClassifier(n_neighbors\u001b[38;5;241m=\u001b[39m\u001b[38;5;241m3\u001b[39m)\n\u001b[1;32m----> 5\u001b[0m neigh\u001b[38;5;241m.\u001b[39mfit(X,y)\n\u001b[0;32m      7\u001b[0m \u001b[38;5;66;03m# Create a kNN classifier with k=3\u001b[39;00m\n\u001b[0;32m      8\u001b[0m neigh \u001b[38;5;241m=\u001b[39m KNeighborsClassifier(n_neighbors\u001b[38;5;241m=\u001b[39m\u001b[38;5;241m3\u001b[39m)\n",
      "\u001b[1;31mNameError\u001b[0m: name 'X' is not defined"
     ]
    }
   ],
   "source": [
    "import numpy as np\n",
    "from sklearn.neighbors import KNeighborsClassifier\n",
    "from sklearn.neighbors import KNeighborsClassifier\n",
    "neigh = KNeighborsClassifier(n_neighbors=3)\n",
    "neigh.fit(X,y)\n",
    "\n",
    "# Create a kNN classifier with k=3\n",
    "neigh = KNeighborsClassifier(n_neighbors=3)\n",
    "\n",
    "# Fit the classifier to your training data\n",
    "neigh.fit(X_train, y_train)"
   ]
  },
  {
   "cell_type": "code",
   "execution_count": null,
   "id": "d6c91a87",
   "metadata": {},
   "outputs": [],
   "source": []
  }
 ],
 "metadata": {
  "kernelspec": {
   "display_name": "Python 3 (ipykernel)",
   "language": "python",
   "name": "python3"
  },
  "language_info": {
   "codemirror_mode": {
    "name": "ipython",
    "version": 3
   },
   "file_extension": ".py",
   "mimetype": "text/x-python",
   "name": "python",
   "nbconvert_exporter": "python",
   "pygments_lexer": "ipython3",
   "version": "3.11.4"
  }
 },
 "nbformat": 4,
 "nbformat_minor": 5
}
